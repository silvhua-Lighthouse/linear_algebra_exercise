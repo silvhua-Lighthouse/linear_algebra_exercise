{
 "cells": [
  {
   "cell_type": "markdown",
   "metadata": {},
   "source": [
    "## Matrix Decomposition Exercise"
   ]
  },
  {
   "cell_type": "code",
   "execution_count": 42,
   "metadata": {
    "ExecuteTime": {
     "end_time": "2020-01-30T08:49:15.705544Z",
     "start_time": "2020-01-30T08:49:15.691050Z"
    }
   },
   "outputs": [],
   "source": [
    "# import numpy\n",
    "import numpy as np"
   ]
  },
  {
   "cell_type": "markdown",
   "metadata": {
    "ExecuteTime": {
     "end_time": "2020-01-30T08:49:16.033687Z",
     "start_time": "2020-01-30T08:49:16.022845Z"
    }
   },
   "source": [
    "**Task:** Generate a random matrix 'A' with a shape of 150x50, using the '**np.random.rand**' function."
   ]
  },
  {
   "cell_type": "code",
   "execution_count": 2,
   "metadata": {},
   "outputs": [],
   "source": [
    "A = np.random.rand(150,50)"
   ]
  },
  {
   "cell_type": "markdown",
   "metadata": {
    "ExecuteTime": {
     "end_time": "2020-01-30T08:49:16.306858Z",
     "start_time": "2020-01-30T08:49:16.291806Z"
    }
   },
   "source": [
    "**Task:** Check the shape of 'A'."
   ]
  },
  {
   "cell_type": "code",
   "execution_count": 3,
   "metadata": {},
   "outputs": [
    {
     "data": {
      "text/plain": [
       "(150, 50)"
      ]
     },
     "execution_count": 3,
     "metadata": {},
     "output_type": "execute_result"
    }
   ],
   "source": [
    "A.shape"
   ]
  },
  {
   "cell_type": "markdown",
   "metadata": {
    "ExecuteTime": {
     "end_time": "2020-01-30T08:49:16.700850Z",
     "start_time": "2020-01-30T08:49:16.658980Z"
    }
   },
   "source": [
    "**Task:** Decompose matrix 'A' with SVD using numpy (decompose into matrices U,D,V)."
   ]
  },
  {
   "cell_type": "code",
   "execution_count": 4,
   "metadata": {},
   "outputs": [],
   "source": [
    "U, D, V = np.linalg.svd(A)"
   ]
  },
  {
   "cell_type": "markdown",
   "metadata": {
    "ExecuteTime": {
     "end_time": "2020-01-30T08:49:17.007803Z",
     "start_time": "2020-01-30T08:49:17.000154Z"
    }
   },
   "source": [
    "**Task:** Check the shapes of matrices U,D,V."
   ]
  },
  {
   "cell_type": "code",
   "execution_count": 6,
   "metadata": {},
   "outputs": [
    {
     "name": "stdout",
     "output_type": "stream",
     "text": [
      "(150, 150)\n",
      "(50,)\n",
      "(50, 50)\n"
     ]
    }
   ],
   "source": [
    "print(U.shape)\n",
    "print(D.shape)\n",
    "print(V.shape)"
   ]
  },
  {
   "cell_type": "markdown",
   "metadata": {
    "ExecuteTime": {
     "end_time": "2020-01-30T08:49:17.380307Z",
     "start_time": "2020-01-30T08:49:17.364171Z"
    }
   },
   "source": [
    "**Task:** Reconstruct matrix 'A' from matrices U,D,V."
   ]
  },
  {
   "cell_type": "code",
   "execution_count": 45,
   "metadata": {},
   "outputs": [
    {
     "data": {
      "text/plain": [
       "array([[0.60036684, 0.42109987, 0.48224292, ..., 0.19726243, 0.90204028,\n",
       "        0.94189901],\n",
       "       [0.67826333, 0.31711569, 0.34495824, ..., 0.92173436, 0.29315768,\n",
       "        0.52290771],\n",
       "       [0.84478745, 0.13364234, 0.34800968, ..., 0.11873989, 0.92980144,\n",
       "        0.77734481],\n",
       "       ...,\n",
       "       [0.24597399, 0.52377133, 0.73234502, ..., 0.09512227, 0.96883619,\n",
       "        0.00766182],\n",
       "       [0.27483228, 0.70581892, 0.88384601, ..., 0.19190517, 0.00288347,\n",
       "        0.97080075],\n",
       "       [0.10938738, 0.11240134, 0.19119481, ..., 0.70340972, 0.46310973,\n",
       "        0.71304324]])"
      ]
     },
     "execution_count": 45,
     "metadata": {},
     "output_type": "execute_result"
    }
   ],
   "source": [
    "# Equation from Kelvin the mentor\n",
    "A_2 = U[:, :50].dot(np.diag(D)).dot(V)\n",
    "A_2"
   ]
  },
  {
   "cell_type": "code",
   "execution_count": 44,
   "metadata": {},
   "outputs": [
    {
     "data": {
      "text/plain": [
       "matrix([[0.60036684, 0.42109987, 0.48224292, ..., 0.19726243, 0.90204028,\n",
       "         0.94189901],\n",
       "        [0.67826333, 0.31711569, 0.34495824, ..., 0.92173436, 0.29315768,\n",
       "         0.52290771],\n",
       "        [0.84478745, 0.13364234, 0.34800968, ..., 0.11873989, 0.92980144,\n",
       "         0.77734481],\n",
       "        ...,\n",
       "        [0.24597399, 0.52377133, 0.73234502, ..., 0.09512227, 0.96883619,\n",
       "         0.00766182],\n",
       "        [0.27483228, 0.70581892, 0.88384601, ..., 0.19190517, 0.00288347,\n",
       "         0.97080075],\n",
       "        [0.10938738, 0.11240134, 0.19119481, ..., 0.70340972, 0.46310973,\n",
       "         0.71304324]])"
      ]
     },
     "execution_count": 44,
     "metadata": {},
     "output_type": "execute_result"
    }
   ],
   "source": [
    "# Equation from Compass walkthrough  https://data.compass.lighthouselabs.ca/activities/493\n",
    "reconst = np.matrix(U[:,:50]) * np.diag(D) * np.matrix(V[:,:])\n",
    "reconst"
   ]
  },
  {
   "cell_type": "markdown",
   "metadata": {
    "ExecuteTime": {
     "end_time": "2020-01-30T08:49:17.782966Z",
     "start_time": "2020-01-30T08:49:17.775093Z"
    }
   },
   "source": [
    "**Task:** Compare matrices 'A' and 'A_rec' with the [**np.allclose**](https://numpy.org/doc/stable/reference/generated/numpy.allclose.html) function."
   ]
  },
  {
   "cell_type": "code",
   "execution_count": 46,
   "metadata": {},
   "outputs": [
    {
     "data": {
      "text/plain": [
       "True"
      ]
     },
     "execution_count": 46,
     "metadata": {},
     "output_type": "execute_result"
    }
   ],
   "source": [
    "np.allclose(A,reconst)"
   ]
  },
  {
   "cell_type": "code",
   "execution_count": 33,
   "metadata": {},
   "outputs": [
    {
     "data": {
      "text/plain": [
       "True"
      ]
     },
     "execution_count": 33,
     "metadata": {},
     "output_type": "execute_result"
    }
   ],
   "source": [
    "np.allclose(A,A_2)"
   ]
  },
  {
   "cell_type": "markdown",
   "metadata": {
    "ExecuteTime": {
     "end_time": "2020-01-30T08:49:18.170344Z",
     "start_time": "2020-01-30T08:49:18.164685Z"
    }
   },
   "source": [
    "**Task:** Reduce the dimnesion of matrix 'A' to shape 150x20 with SVD (try both equations)."
   ]
  },
  {
   "cell_type": "code",
   "execution_count": 56,
   "metadata": {},
   "outputs": [
    {
     "data": {
      "text/plain": [
       "(150, 50)"
      ]
     },
     "execution_count": 56,
     "metadata": {},
     "output_type": "execute_result"
    }
   ],
   "source": [
    "A3 = U[:, :20].dot(np.diag(D[:20])).dot(V[:20])\n",
    "A3.shape"
   ]
  },
  {
   "cell_type": "code",
   "execution_count": 60,
   "metadata": {},
   "outputs": [],
   "source": [
    "A_rec = np.matrix(U[:,:20]) * np.diag(D[:20]) * np.matrix(V[:20])"
   ]
  },
  {
   "cell_type": "markdown",
   "metadata": {
    "ExecuteTime": {
     "end_time": "2020-01-30T08:49:18.526337Z",
     "start_time": "2020-01-30T08:49:18.519511Z"
    }
   },
   "source": [
    "**Task:** Print the shape."
   ]
  },
  {
   "cell_type": "code",
   "execution_count": 61,
   "metadata": {},
   "outputs": [
    {
     "data": {
      "text/plain": [
       "(150, 50)"
      ]
     },
     "execution_count": 61,
     "metadata": {},
     "output_type": "execute_result"
    }
   ],
   "source": [
    "A3.shape"
   ]
  },
  {
   "cell_type": "code",
   "execution_count": 63,
   "metadata": {},
   "outputs": [
    {
     "data": {
      "text/plain": [
       "(150, 50)"
      ]
     },
     "execution_count": 63,
     "metadata": {},
     "output_type": "execute_result"
    }
   ],
   "source": [
    "A_rec.shape"
   ]
  },
  {
   "cell_type": "markdown",
   "metadata": {
    "ExecuteTime": {
     "end_time": "2020-01-30T08:49:18.858261Z",
     "start_time": "2020-01-30T08:49:18.850912Z"
    }
   },
   "source": [
    "**Task:** Compare the two results with the [**np.allclose**](https://numpy.org/doc/stable/reference/generated/numpy.allclose.html) function."
   ]
  },
  {
   "cell_type": "code",
   "execution_count": 64,
   "metadata": {},
   "outputs": [
    {
     "data": {
      "text/plain": [
       "False"
      ]
     },
     "execution_count": 64,
     "metadata": {},
     "output_type": "execute_result"
    }
   ],
   "source": [
    "np.allclose(A,A3)"
   ]
  },
  {
   "cell_type": "code",
   "execution_count": 65,
   "metadata": {},
   "outputs": [
    {
     "data": {
      "text/plain": [
       "False"
      ]
     },
     "execution_count": 65,
     "metadata": {},
     "output_type": "execute_result"
    }
   ],
   "source": [
    "np.allclose(A,A_rec)"
   ]
  },
  {
   "cell_type": "markdown",
   "metadata": {
    "ExecuteTime": {
     "end_time": "2020-01-30T08:49:19.245461Z",
     "start_time": "2020-01-30T08:49:19.237681Z"
    }
   },
   "source": [
    "**Task:** Filter the noise from matrix 'A' with 20 largest singular vectors (keep the shape of (150x50))."
   ]
  },
  {
   "cell_type": "code",
   "execution_count": 77,
   "metadata": {},
   "outputs": [
    {
     "data": {
      "text/plain": [
       "(150, 50)"
      ]
     },
     "execution_count": 77,
     "metadata": {},
     "output_type": "execute_result"
    }
   ],
   "source": [
    "Af1 = U[:,:20].dot(np.diag(D[:20])).dot(V[:20])\n",
    "Af1.shape"
   ]
  },
  {
   "cell_type": "code",
   "execution_count": 78,
   "metadata": {},
   "outputs": [
    {
     "data": {
      "text/plain": [
       "(150, 50)"
      ]
     },
     "execution_count": 78,
     "metadata": {},
     "output_type": "execute_result"
    }
   ],
   "source": [
    "Af2 = np.matrix(U[:, :20]) * np.diag(D[:20]) * np.matrix(V[:20])\n",
    "Af2.shape"
   ]
  },
  {
   "cell_type": "markdown",
   "metadata": {
    "ExecuteTime": {
     "end_time": "2020-01-30T08:49:19.787237Z",
     "start_time": "2020-01-30T08:49:19.775025Z"
    }
   },
   "source": [
    "**Task:** Check the shape."
   ]
  },
  {
   "cell_type": "code",
   "execution_count": null,
   "metadata": {},
   "outputs": [],
   "source": []
  },
  {
   "cell_type": "code",
   "execution_count": null,
   "metadata": {},
   "outputs": [],
   "source": []
  },
  {
   "cell_type": "markdown",
   "metadata": {},
   "source": [
    "**Task:** Define the function `'SVD'` which perform singular values decomposition.\n",
    "\n",
    "Do not forget to hceck the shape of the input matrix."
   ]
  },
  {
   "cell_type": "code",
   "execution_count": 79,
   "metadata": {
    "ExecuteTime": {
     "end_time": "2020-01-30T08:49:20.344770Z",
     "start_time": "2020-01-30T08:49:20.326781Z"
    }
   },
   "outputs": [],
   "source": [
    "def SVD(A):\n",
    "    \"\"\"\n",
    "    PARAMS:\n",
    "        A (numpy.ndarray) - matrix to decompose\n",
    "    RETURN:\n",
    "        U (numpy.ndarray) - left singular vectors\n",
    "        SV (numpy.ndarray) - singular values\n",
    "        V (numpy.ndarray) - right singular vectors\n",
    "    \"\"\"\n",
    "    U, SV, V = np.linalg.svd(A)\n",
    "    return U, SV, V"
   ]
  },
  {
   "cell_type": "code",
   "execution_count": null,
   "metadata": {},
   "outputs": [],
   "source": []
  },
  {
   "cell_type": "markdown",
   "metadata": {
    "ExecuteTime": {
     "end_time": "2020-01-30T08:49:20.693579Z",
     "start_time": "2020-01-30T08:49:20.660972Z"
    }
   },
   "source": [
    "**Task:** Call the function `'SVD'` on matrix 'A'."
   ]
  },
  {
   "cell_type": "code",
   "execution_count": 80,
   "metadata": {},
   "outputs": [
    {
     "data": {
      "text/plain": [
       "(array([[-8.04515620e-02, -5.93338199e-02, -6.21132559e-02, ...,\n",
       "         -2.08460298e-02, -4.24256932e-02, -7.10532202e-03],\n",
       "        [-8.50570178e-02,  1.16186515e-01,  2.59067549e-02, ...,\n",
       "          1.37991284e-02,  8.78444101e-02, -3.56476389e-02],\n",
       "        [-8.09562272e-02,  1.36392360e-01, -1.97835168e-01, ...,\n",
       "         -5.30320684e-02,  2.64196444e-02,  2.35936191e-01],\n",
       "        ...,\n",
       "        [-7.49088511e-02, -2.09752779e-03, -1.36811235e-01, ...,\n",
       "          6.96496079e-01,  1.85169643e-02,  4.01221375e-02],\n",
       "        [-9.03481643e-02,  1.51438510e-01,  7.10206747e-02, ...,\n",
       "         -1.00619832e-02,  6.31048410e-01, -4.36698132e-02],\n",
       "        [-8.24629192e-02, -1.35151971e-01, -9.76080475e-02, ...,\n",
       "         -9.65515987e-03, -6.62582667e-04,  6.91406125e-01]]),\n",
       " array([43.76323463,  5.28617962,  5.21561189,  5.00401543,  4.91741709,\n",
       "         4.75827784,  4.73961117,  4.66870209,  4.53321161,  4.45154816,\n",
       "         4.40631536,  4.24802043,  4.22609215,  4.1875968 ,  4.08630897,\n",
       "         4.04117675,  4.01269867,  3.85823071,  3.79045683,  3.70483481,\n",
       "         3.66594401,  3.6076527 ,  3.52575276,  3.40881981,  3.37210636,\n",
       "         3.31323147,  3.27039083,  3.23436834,  3.16230656,  3.12584374,\n",
       "         3.02951216,  2.99954792,  2.9068938 ,  2.85323502,  2.82427021,\n",
       "         2.73326207,  2.66665306,  2.58040175,  2.45896493,  2.31867577,\n",
       "         2.30654844,  2.27542835,  2.16242426,  2.10044427,  2.0422235 ,\n",
       "         1.94812737,  1.93687979,  1.8282404 ,  1.67529766,  1.53114077]),\n",
       " array([[-0.13687974, -0.14729365, -0.13669272, ..., -0.1549064 ,\n",
       "         -0.1348594 , -0.14359175],\n",
       "        [ 0.09855424, -0.27851778,  0.03153448, ..., -0.20489871,\n",
       "         -0.15860505,  0.06060751],\n",
       "        [-0.1393518 ,  0.19884497,  0.0490206 , ...,  0.15246352,\n",
       "         -0.33167236, -0.0092488 ],\n",
       "        ...,\n",
       "        [ 0.24598634,  0.10196736, -0.14304101, ...,  0.08000814,\n",
       "         -0.172922  , -0.08158477],\n",
       "        [-0.00428176, -0.06784894, -0.08436291, ...,  0.16901432,\n",
       "          0.18226728, -0.07164764],\n",
       "        [ 0.25189326, -0.1149043 , -0.06501772, ...,  0.03157197,\n",
       "          0.0524046 , -0.00293862]]))"
      ]
     },
     "execution_count": 80,
     "metadata": {},
     "output_type": "execute_result"
    }
   ],
   "source": [
    "SVD(A)"
   ]
  }
 ],
 "metadata": {
  "kernelspec": {
   "display_name": "Python 3.9.13 64-bit",
   "language": "python",
   "name": "python3"
  },
  "language_info": {
   "codemirror_mode": {
    "name": "ipython",
    "version": 3
   },
   "file_extension": ".py",
   "mimetype": "text/x-python",
   "name": "python",
   "nbconvert_exporter": "python",
   "pygments_lexer": "ipython3",
   "version": "3.9.13"
  },
  "toc": {
   "base_numbering": 1,
   "nav_menu": {},
   "number_sections": true,
   "sideBar": true,
   "skip_h1_title": false,
   "title_cell": "Table of Contents",
   "title_sidebar": "Contents",
   "toc_cell": false,
   "toc_position": {},
   "toc_section_display": true,
   "toc_window_display": false
  },
  "varInspector": {
   "cols": {
    "lenName": 16,
    "lenType": 16,
    "lenVar": 40
   },
   "kernels_config": {
    "python": {
     "delete_cmd_postfix": "",
     "delete_cmd_prefix": "del ",
     "library": "var_list.py",
     "varRefreshCmd": "print(var_dic_list())"
    },
    "r": {
     "delete_cmd_postfix": ") ",
     "delete_cmd_prefix": "rm(",
     "library": "var_list.r",
     "varRefreshCmd": "cat(var_dic_list()) "
    }
   },
   "types_to_exclude": [
    "module",
    "function",
    "builtin_function_or_method",
    "instance",
    "_Feature"
   ],
   "window_display": false
  },
  "vscode": {
   "interpreter": {
    "hash": "11938c6bc6919ae2720b4d5011047913343b08a43b18698fd82dedb0d4417594"
   }
  }
 },
 "nbformat": 4,
 "nbformat_minor": 4
}
